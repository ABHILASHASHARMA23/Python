{
 "cells": [
  {
   "cell_type": "code",
   "execution_count": 5,
   "id": "0b160a80-09be-4225-8db7-6687e4bc7427",
   "metadata": {},
   "outputs": [
    {
     "data": {
      "text/plain": [
       "int"
      ]
     },
     "execution_count": 5,
     "metadata": {},
     "output_type": "execute_result"
    }
   ],
   "source": [
    "type(-12 + 100)"
   ]
  },
  {
   "cell_type": "code",
   "execution_count": 6,
   "id": "12488d06-4e96-48ba-936a-fa20b19c0bdb",
   "metadata": {},
   "outputs": [
    {
     "data": {
      "text/plain": [
       "float"
      ]
     },
     "execution_count": 6,
     "metadata": {},
     "output_type": "execute_result"
    }
   ],
   "source": [
    "type(12 + 10.25)"
   ]
  },
  {
   "cell_type": "code",
   "execution_count": 7,
   "id": "1da8babf-a6e5-4e28-a0d6-09c6f75e5292",
   "metadata": {},
   "outputs": [
    {
     "data": {
      "text/plain": [
       "complex"
      ]
     },
     "execution_count": 7,
     "metadata": {},
     "output_type": "execute_result"
    }
   ],
   "source": [
    "type(12 + 3j)"
   ]
  },
  {
   "cell_type": "code",
   "execution_count": 8,
   "id": "d7bf5dcc-5e5f-4cc6-b31b-1e4f7f43f2cd",
   "metadata": {},
   "outputs": [
    {
     "data": {
      "text/plain": [
       "bool"
      ]
     },
     "execution_count": 8,
     "metadata": {},
     "output_type": "execute_result"
    }
   ],
   "source": [
    "# Boolean \n",
    "type(False)"
   ]
  },
  {
   "cell_type": "code",
   "execution_count": 9,
   "id": "304b94b7-7e70-48c8-bdb1-c3cac5996c21",
   "metadata": {},
   "outputs": [
    {
     "data": {
      "text/plain": [
       "bool"
      ]
     },
     "execution_count": 9,
     "metadata": {},
     "output_type": "execute_result"
    }
   ],
   "source": [
    "type(1 > 5)"
   ]
  },
  {
   "cell_type": "code",
   "execution_count": 10,
   "id": "866286ea-9b52-4a06-8978-3bb0fd7dc1f6",
   "metadata": {},
   "outputs": [
    {
     "data": {
      "text/plain": [
       "False"
      ]
     },
     "execution_count": 10,
     "metadata": {},
     "output_type": "execute_result"
    }
   ],
   "source": [
    "1 > 5"
   ]
  },
  {
   "cell_type": "code",
   "execution_count": 12,
   "id": "c9826665-223d-4cce-89ac-dc5f59684d9a",
   "metadata": {},
   "outputs": [
    {
     "data": {
      "text/plain": [
       "True"
      ]
     },
     "execution_count": 12,
     "metadata": {},
     "output_type": "execute_result"
    }
   ],
   "source": [
    "1 == 1"
   ]
  },
  {
   "cell_type": "code",
   "execution_count": 13,
   "id": "49e29800-9075-43a9-bd2f-951b3e7dc837",
   "metadata": {},
   "outputs": [
    {
     "data": {
      "text/plain": [
       "'Single Quote'"
      ]
     },
     "execution_count": 13,
     "metadata": {},
     "output_type": "execute_result"
    }
   ],
   "source": [
    "# Strings\n",
    "'Single Quote'"
   ]
  },
  {
   "cell_type": "code",
   "execution_count": 14,
   "id": "5ed3fefa-c8b8-4f55-adb9-76a64a877014",
   "metadata": {},
   "outputs": [
    {
     "data": {
      "text/plain": [
       "'Double Quote'"
      ]
     },
     "execution_count": 14,
     "metadata": {},
     "output_type": "execute_result"
    }
   ],
   "source": [
    "\"Double Quote\""
   ]
  },
  {
   "cell_type": "code",
   "execution_count": 18,
   "id": "8cab1709-4507-42b2-98e4-962a2eb775e4",
   "metadata": {},
   "outputs": [],
   "source": [
    "multiline = \"\"\"\n",
    "The ice cream vanquished\n",
    "my longing for sweets,\n",
    "upon this diet i look away,\n",
    "it no longer exists on this day.\n",
    "\"\"\"\n"
   ]
  },
  {
   "cell_type": "code",
   "execution_count": 19,
   "id": "8bb23a99-a462-4a96-afd7-418f49334763",
   "metadata": {},
   "outputs": [
    {
     "name": "stdout",
     "output_type": "stream",
     "text": [
      "\n",
      "The ice cream vanquished\n",
      "my longing for sweets,\n",
      "upon this diet i look away,\n",
      "it no longer exists on this day.\n",
      "\n"
     ]
    }
   ],
   "source": [
    "print(multiline)"
   ]
  },
  {
   "cell_type": "code",
   "execution_count": 20,
   "id": "d0fc99dc-51dc-4043-a051-28727566a841",
   "metadata": {},
   "outputs": [
    {
     "data": {
      "text/plain": [
       "str"
      ]
     },
     "execution_count": 20,
     "metadata": {},
     "output_type": "execute_result"
    }
   ],
   "source": [
    "type(multiline)"
   ]
  },
  {
   "cell_type": "code",
   "execution_count": 26,
   "id": "0e8f56dd-7e12-4f66-aaa1-7077077171e7",
   "metadata": {},
   "outputs": [],
   "source": [
    "a = 'Hello World!'"
   ]
  },
  {
   "cell_type": "code",
   "execution_count": 27,
   "id": "56f1dfba-333b-43ca-988d-d5e0a824b2ff",
   "metadata": {},
   "outputs": [
    {
     "name": "stdout",
     "output_type": "stream",
     "text": [
      "Hello\n"
     ]
    }
   ],
   "source": [
    "print(a[:5])"
   ]
  },
  {
   "cell_type": "code",
   "execution_count": 28,
   "id": "9ad27a26-342e-4a6c-86c3-cc458a2717b0",
   "metadata": {},
   "outputs": [
    {
     "name": "stdout",
     "output_type": "stream",
     "text": [
      "W\n"
     ]
    }
   ],
   "source": [
    "print(a[6])"
   ]
  },
  {
   "cell_type": "code",
   "execution_count": 29,
   "id": "e74b890b-be80-4868-94a3-cb024b849866",
   "metadata": {},
   "outputs": [
    {
     "name": "stdout",
     "output_type": "stream",
     "text": [
      "llo\n"
     ]
    }
   ],
   "source": [
    "print(a[2:5])"
   ]
  },
  {
   "cell_type": "code",
   "execution_count": 30,
   "id": "87332f92-1d15-47e5-84fd-d3e9cf60bbd1",
   "metadata": {},
   "outputs": [
    {
     "data": {
      "text/plain": [
       "'Hello World!Hello World!Hello World!'"
      ]
     },
     "execution_count": 30,
     "metadata": {},
     "output_type": "execute_result"
    }
   ],
   "source": [
    "a*3"
   ]
  },
  {
   "cell_type": "code",
   "execution_count": 31,
   "id": "f8c91015-8943-486b-b479-bf040b5edb1f",
   "metadata": {},
   "outputs": [
    {
     "data": {
      "text/plain": [
       "'Hello World!Hello World!'"
      ]
     },
     "execution_count": 31,
     "metadata": {},
     "output_type": "execute_result"
    }
   ],
   "source": [
    "a + a"
   ]
  },
  {
   "cell_type": "code",
   "execution_count": 32,
   "id": "fd7f3ea3-313e-4f03-b4dd-aa2c064f0129",
   "metadata": {},
   "outputs": [
    {
     "data": {
      "text/plain": [
       "[1, 2, 3]"
      ]
     },
     "execution_count": 32,
     "metadata": {},
     "output_type": "execute_result"
    }
   ],
   "source": [
    "# List\n",
    "[1,2,3]"
   ]
  },
  {
   "cell_type": "code",
   "execution_count": 34,
   "id": "0011c61b-9c61-4971-8119-c6dbf2c074eb",
   "metadata": {},
   "outputs": [
    {
     "data": {
      "text/plain": [
       "['nature', 'Trees', 'Mountains']"
      ]
     },
     "execution_count": 34,
     "metadata": {},
     "output_type": "execute_result"
    }
   ],
   "source": [
    "['nature', 'Trees', 'Mountains']"
   ]
  },
  {
   "cell_type": "code",
   "execution_count": 35,
   "id": "2527ecc6-9fc3-46c2-a7db-521d939de453",
   "metadata": {},
   "outputs": [
    {
     "data": {
      "text/plain": [
       "['River', 3, ['Ocean', 'Beaches'], True]"
      ]
     },
     "execution_count": 35,
     "metadata": {},
     "output_type": "execute_result"
    }
   ],
   "source": [
    "['River', 3,['Ocean','Beaches'],True]"
   ]
  },
  {
   "cell_type": "code",
   "execution_count": 39,
   "id": "334172a4-a0a2-4aea-9f2f-a4fbd48b1a8e",
   "metadata": {},
   "outputs": [
    {
     "data": {
      "text/plain": [
       "['nature', 'Trees', 'Mountains', 'view']"
      ]
     },
     "execution_count": 39,
     "metadata": {},
     "output_type": "execute_result"
    }
   ],
   "source": [
    "travel_world = ['nature', 'Trees', 'Mountains']\n",
    "travel_world.append('view')\n",
    "travel_world"
   ]
  },
  {
   "cell_type": "code",
   "execution_count": 40,
   "id": "5eb906be-549b-4397-b63d-90f97e464b19",
   "metadata": {},
   "outputs": [
    {
     "data": {
      "text/plain": [
       "['colors', 'Trees', 'Mountains', 'view']"
      ]
     },
     "execution_count": 40,
     "metadata": {},
     "output_type": "execute_result"
    }
   ],
   "source": [
    "travel_world[0] = 'colors'\n",
    "travel_world"
   ]
  },
  {
   "cell_type": "code",
   "execution_count": 41,
   "id": "19354f82-5295-4f52-bcae-bee13074b782",
   "metadata": {},
   "outputs": [],
   "source": [
    "nest_list = ['River', 3,['Ocean','Beaches'],True]"
   ]
  },
  {
   "cell_type": "code",
   "execution_count": 42,
   "id": "27b1e54b-2a2d-474e-b577-50d64e285b14",
   "metadata": {},
   "outputs": [
    {
     "data": {
      "text/plain": [
       "'Beaches'"
      ]
     },
     "execution_count": 42,
     "metadata": {},
     "output_type": "execute_result"
    }
   ],
   "source": [
    "nest_list[2][1]"
   ]
  },
  {
   "cell_type": "code",
   "execution_count": 44,
   "id": "ab8fc091-9330-4781-ad27-2b197b1b6304",
   "metadata": {},
   "outputs": [],
   "source": [
    "# Tuple\n",
    "tuple_scoops = (1,2,3,2,1)"
   ]
  },
  {
   "cell_type": "code",
   "execution_count": 45,
   "id": "403b9c20-6d75-477f-a776-43208361b1a4",
   "metadata": {},
   "outputs": [
    {
     "data": {
      "text/plain": [
       "tuple"
      ]
     },
     "execution_count": 45,
     "metadata": {},
     "output_type": "execute_result"
    }
   ],
   "source": [
    "type(tuple_scoops)"
   ]
  },
  {
   "cell_type": "code",
   "execution_count": 46,
   "id": "66d49ad3-259c-4cd3-9c01-bb59653f28eb",
   "metadata": {},
   "outputs": [
    {
     "data": {
      "text/plain": [
       "1"
      ]
     },
     "execution_count": 46,
     "metadata": {},
     "output_type": "execute_result"
    }
   ],
   "source": [
    "tuple_scoops[0]"
   ]
  },
  {
   "cell_type": "code",
   "execution_count": 48,
   "id": "d444ba5c-9324-40db-ae36-2b5d33b956d7",
   "metadata": {},
   "outputs": [],
   "source": [
    "# Sets\n",
    "daily_pints = {1,2,3}"
   ]
  },
  {
   "cell_type": "code",
   "execution_count": 49,
   "id": "7529a9a2-040a-4039-b8aa-1e9a5ddb0752",
   "metadata": {},
   "outputs": [
    {
     "data": {
      "text/plain": [
       "set"
      ]
     },
     "execution_count": 49,
     "metadata": {},
     "output_type": "execute_result"
    }
   ],
   "source": [
    "type(daily_pints)"
   ]
  },
  {
   "cell_type": "code",
   "execution_count": 50,
   "id": "2af2d0d7-5c91-4a69-8f4d-4e6129c64422",
   "metadata": {},
   "outputs": [
    {
     "name": "stdout",
     "output_type": "stream",
     "text": [
      "{1, 2, 3}\n"
     ]
    }
   ],
   "source": [
    "print(daily_pints)"
   ]
  },
  {
   "cell_type": "code",
   "execution_count": 51,
   "id": "bcdcb82c-af2c-4b40-b6c7-3335bf978354",
   "metadata": {},
   "outputs": [
    {
     "name": "stdout",
     "output_type": "stream",
     "text": [
      "{1, 2, 3, 4, 5, 6, 31}\n"
     ]
    }
   ],
   "source": [
    "daily_pints_log = {1,2,31,2,3,4,1,2,5,6,3,2}\n",
    "print(daily_pints_log)"
   ]
  },
  {
   "cell_type": "code",
   "execution_count": 52,
   "id": "8d5076b7-aaef-4448-b067-35f43d8f1889",
   "metadata": {},
   "outputs": [],
   "source": [
    "other_daily_pints_log = {2,6,5,2,31,45,12,23,47,12,2}"
   ]
  },
  {
   "cell_type": "code",
   "execution_count": 53,
   "id": "b8c3f08b-a82d-412a-9586-c2e8a7fb6b9b",
   "metadata": {},
   "outputs": [
    {
     "name": "stdout",
     "output_type": "stream",
     "text": [
      "{1, 2, 3, 4, 5, 6, 12, 45, 47, 23, 31}\n"
     ]
    }
   ],
   "source": [
    "print(daily_pints_log | other_daily_pints_log)"
   ]
  },
  {
   "cell_type": "code",
   "execution_count": 54,
   "id": "b04571ae-b217-4489-b92c-319f25ad8d6b",
   "metadata": {},
   "outputs": [
    {
     "name": "stdout",
     "output_type": "stream",
     "text": [
      "{2, 5, 6, 31}\n"
     ]
    }
   ],
   "source": [
    "print(daily_pints_log & other_daily_pints_log)"
   ]
  },
  {
   "cell_type": "code",
   "execution_count": 55,
   "id": "ed9e6e39-f85a-462a-89c7-170d4ff8b842",
   "metadata": {},
   "outputs": [
    {
     "name": "stdout",
     "output_type": "stream",
     "text": [
      "{1, 3, 4}\n"
     ]
    }
   ],
   "source": [
    "print(daily_pints_log - other_daily_pints_log)"
   ]
  },
  {
   "cell_type": "code",
   "execution_count": 56,
   "id": "97e312a4-5fe7-41ad-bc58-2ca0f4b14a72",
   "metadata": {},
   "outputs": [
    {
     "name": "stdout",
     "output_type": "stream",
     "text": [
      "{23, 12, 45, 47}\n"
     ]
    }
   ],
   "source": [
    "print(other_daily_pints_log - daily_pints_log)"
   ]
  },
  {
   "cell_type": "code",
   "execution_count": 57,
   "id": "79dd42f0-bee3-404b-8c12-13e6b58dcf6b",
   "metadata": {},
   "outputs": [
    {
     "name": "stdout",
     "output_type": "stream",
     "text": [
      "{1, 3, 4, 12, 45, 47, 23}\n"
     ]
    }
   ],
   "source": [
    "print(other_daily_pints_log ^ daily_pints_log)"
   ]
  },
  {
   "cell_type": "code",
   "execution_count": 59,
   "id": "1ee511f8-29e0-4a4e-930b-f13eb341716d",
   "metadata": {},
   "outputs": [],
   "source": [
    "# Dictionaries\n",
    "# Key/Value Pair\n",
    "dict_cream = {'name' : 'Abhilasha', 'Weekly intake' : 5, 'Colors': ['ABH','Fun']}"
   ]
  },
  {
   "cell_type": "code",
   "execution_count": 60,
   "id": "7e292a87-e04f-4fc8-ade4-24ecdaf81a88",
   "metadata": {},
   "outputs": [
    {
     "data": {
      "text/plain": [
       "dict"
      ]
     },
     "execution_count": 60,
     "metadata": {},
     "output_type": "execute_result"
    }
   ],
   "source": [
    "type(dict_cream)"
   ]
  },
  {
   "cell_type": "code",
   "execution_count": 61,
   "id": "1b375325-65ee-4c56-a28c-d68e7190c9d4",
   "metadata": {},
   "outputs": [
    {
     "name": "stdout",
     "output_type": "stream",
     "text": [
      "{'name': 'Abhilasha', 'Weekly intake': 5, 'Colors': ['ABH', 'Fun']}\n"
     ]
    }
   ],
   "source": [
    "print(dict_cream)"
   ]
  },
  {
   "cell_type": "code",
   "execution_count": 62,
   "id": "2335dc25-2143-4b6c-a393-d4330cee0548",
   "metadata": {},
   "outputs": [
    {
     "data": {
      "text/plain": [
       "dict_values(['Abhilasha', 5, ['ABH', 'Fun']])"
      ]
     },
     "execution_count": 62,
     "metadata": {},
     "output_type": "execute_result"
    }
   ],
   "source": [
    "dict_cream.values()"
   ]
  },
  {
   "cell_type": "code",
   "execution_count": 63,
   "id": "e6347654-cc9c-4143-b0a3-1c5ddfacdeca",
   "metadata": {},
   "outputs": [
    {
     "data": {
      "text/plain": [
       "dict_keys(['name', 'Weekly intake', 'Colors'])"
      ]
     },
     "execution_count": 63,
     "metadata": {},
     "output_type": "execute_result"
    }
   ],
   "source": [
    "dict_cream.keys()"
   ]
  },
  {
   "cell_type": "code",
   "execution_count": 64,
   "id": "2444b4d3-fe4f-4145-b70f-8f5545538c9c",
   "metadata": {},
   "outputs": [
    {
     "data": {
      "text/plain": [
       "dict_items([('name', 'Abhilasha'), ('Weekly intake', 5), ('Colors', ['ABH', 'Fun'])])"
      ]
     },
     "execution_count": 64,
     "metadata": {},
     "output_type": "execute_result"
    }
   ],
   "source": [
    "dict_cream.items()"
   ]
  },
  {
   "cell_type": "code",
   "execution_count": 66,
   "id": "d99abc37-a6e7-41af-823c-57abd06dffde",
   "metadata": {},
   "outputs": [
    {
     "data": {
      "text/plain": [
       "'Abhilasha'"
      ]
     },
     "execution_count": 66,
     "metadata": {},
     "output_type": "execute_result"
    }
   ],
   "source": [
    "dict_cream['name']"
   ]
  },
  {
   "cell_type": "code",
   "execution_count": 67,
   "id": "840e21a2-2116-4045-9326-584fcd3439d4",
   "metadata": {},
   "outputs": [
    {
     "name": "stdout",
     "output_type": "stream",
     "text": [
      "{'name': 'ABHILASHA', 'Weekly intake': 5, 'Colors': ['ABH', 'Fun']}\n"
     ]
    }
   ],
   "source": [
    "dict_cream['name'] = 'ABHILASHA'\n",
    "print(dict_cream)"
   ]
  },
  {
   "cell_type": "code",
   "execution_count": 75,
   "id": "4dbe0e28-8915-49f2-853b-c7f7d1492beb",
   "metadata": {},
   "outputs": [
    {
     "name": "stdout",
     "output_type": "stream",
     "text": [
      "{'name': 'ABHILASHA', 'Weekly intake': 10, 'Colors': ['ABH', 'Fun'], 'summer': 100}\n"
     ]
    }
   ],
   "source": [
    "dict_cream.update({'name': 'ABHILASHA', 'Weekly intake': 10, 'summer':100})\n",
    "print(dict_cream)"
   ]
  },
  {
   "cell_type": "code",
   "execution_count": 76,
   "id": "5ff38ad7-f5b5-4801-8ceb-87bfcf68789f",
   "metadata": {},
   "outputs": [
    {
     "name": "stdout",
     "output_type": "stream",
     "text": [
      "{'name': 'ABHILASHA', 'Weekly intake': 10, 'Colors': ['ABH', 'Fun']}\n"
     ]
    }
   ],
   "source": [
    "del dict_cream['summer']\n",
    "print(dict_cream)"
   ]
  },
  {
   "cell_type": "code",
   "execution_count": null,
   "id": "ddf0ae58-4f3a-4e15-89bb-5d61990fd263",
   "metadata": {},
   "outputs": [],
   "source": []
  }
 ],
 "metadata": {
  "kernelspec": {
   "display_name": "Python 3 (ipykernel)",
   "language": "python",
   "name": "python3"
  },
  "language_info": {
   "codemirror_mode": {
    "name": "ipython",
    "version": 3
   },
   "file_extension": ".py",
   "mimetype": "text/x-python",
   "name": "python",
   "nbconvert_exporter": "python",
   "pygments_lexer": "ipython3",
   "version": "3.12.2"
  }
 },
 "nbformat": 4,
 "nbformat_minor": 5
}
