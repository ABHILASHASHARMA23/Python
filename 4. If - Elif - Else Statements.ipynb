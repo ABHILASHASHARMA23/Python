{
 "cells": [
  {
   "cell_type": "code",
   "execution_count": 1,
   "id": "967de35e-f47a-46b7-814a-06e70f183345",
   "metadata": {},
   "outputs": [
    {
     "name": "stdout",
     "output_type": "stream",
     "text": [
      "It Worked\n"
     ]
    }
   ],
   "source": [
    "if 25 > 10:\n",
    "    print('It Worked')"
   ]
  },
  {
   "cell_type": "code",
   "execution_count": 2,
   "id": "5a99dd74-2bb4-4171-b7bf-9682fe561dd8",
   "metadata": {},
   "outputs": [
    {
     "name": "stdout",
     "output_type": "stream",
     "text": [
      "It did not work.....\n"
     ]
    }
   ],
   "source": [
    "if 25 < 10:\n",
    "    print('It Worked')\n",
    "else:\n",
    "    print('It did not work.....')"
   ]
  },
  {
   "cell_type": "code",
   "execution_count": 3,
   "id": "48aa64c1-9e1b-477f-b602-8919af97905c",
   "metadata": {},
   "outputs": [
    {
     "name": "stdout",
     "output_type": "stream",
     "text": [
      "It Worked\n"
     ]
    }
   ],
   "source": [
    "if 25 > 10:\n",
    "    print('It Worked')\n",
    "else:\n",
    "    print('It did not work.....')"
   ]
  },
  {
   "cell_type": "code",
   "execution_count": 4,
   "id": "b4affd7a-036d-4092-9961-e0eac7a6ec68",
   "metadata": {},
   "outputs": [
    {
     "name": "stdout",
     "output_type": "stream",
     "text": [
      "elif worked!\n"
     ]
    }
   ],
   "source": [
    "if 25 < 10:\n",
    "    print('It Worked')\n",
    "elif 25 < 30:\n",
    "    print('elif worked!')\n",
    "else:\n",
    "    print('It did not work.....')"
   ]
  },
  {
   "cell_type": "code",
   "execution_count": 6,
   "id": "399d4fe1-f45b-40e5-af1e-c8469a3735c6",
   "metadata": {},
   "outputs": [
    {
     "name": "stdout",
     "output_type": "stream",
     "text": [
      "elif 3 worked!\n"
     ]
    }
   ],
   "source": [
    "if 25 < 10:\n",
    "    print('It Worked')\n",
    "elif 25 < 20:\n",
    "    print('elif worked!')\n",
    "elif 25 < 21:\n",
    "    print('elif 2 worked!')\n",
    "elif 25 < 40:\n",
    "    print('elif 3 worked!')\n",
    "elif 25 < 50:\n",
    "    print('elif 4 worked!')\n",
    "else:\n",
    "    print('It did not work.....')"
   ]
  },
  {
   "cell_type": "code",
   "execution_count": 7,
   "id": "bc9e2d43-a683-4d44-8691-ffc93539e7f9",
   "metadata": {},
   "outputs": [
    {
     "name": "stdout",
     "output_type": "stream",
     "text": [
      "It Worked\n"
     ]
    }
   ],
   "source": [
    "if (25 < 10) or (1 < 3):\n",
    "    print('It Worked')\n",
    "elif 25 < 20:\n",
    "    print('elif worked!')\n",
    "elif 25 < 21:\n",
    "    print('elif 2 worked!')\n",
    "elif 25 < 40:\n",
    "    print('elif 3 worked!')\n",
    "elif 25 < 50:\n",
    "    print('elif 4 worked!')\n",
    "else:\n",
    "    print('It did not work.....')"
   ]
  },
  {
   "cell_type": "code",
   "execution_count": 8,
   "id": "446948aa-f84f-4d8a-b92b-2cf13f8d0989",
   "metadata": {},
   "outputs": [
    {
     "name": "stdout",
     "output_type": "stream",
     "text": [
      "It did not work..\n"
     ]
    }
   ],
   "source": [
    "print('It Worked!') if 10 > 30 else print('It did not work..')"
   ]
  },
  {
   "cell_type": "code",
   "execution_count": 9,
   "id": "e2d7e518-2704-4955-bb13-67ff0109bf9c",
   "metadata": {},
   "outputs": [
    {
     "name": "stdout",
     "output_type": "stream",
     "text": [
      "It Worked\n",
      "This nested if statement worked!\n"
     ]
    }
   ],
   "source": [
    "if (25 < 10) or (1 < 3):\n",
    "    print('It Worked')\n",
    "    if 10 > 5:\n",
    "        print('This nested if statement worked!')\n",
    "elif 25 < 20:\n",
    "    print('elif worked!')\n",
    "elif 25 < 21:\n",
    "    print('elif 2 worked!')\n",
    "elif 25 < 40:\n",
    "    print('elif 3 worked!')\n",
    "elif 25 < 50:\n",
    "    print('elif 4 worked!')\n",
    "else:\n",
    "    print('It did not work.....')"
   ]
  },
  {
   "cell_type": "code",
   "execution_count": null,
   "id": "6b4afe25-fc1b-46c3-8608-819535873550",
   "metadata": {},
   "outputs": [],
   "source": []
  }
 ],
 "metadata": {
  "kernelspec": {
   "display_name": "Python 3 (ipykernel)",
   "language": "python",
   "name": "python3"
  },
  "language_info": {
   "codemirror_mode": {
    "name": "ipython",
    "version": 3
   },
   "file_extension": ".py",
   "mimetype": "text/x-python",
   "name": "python",
   "nbconvert_exporter": "python",
   "pygments_lexer": "ipython3",
   "version": "3.12.2"
  }
 },
 "nbformat": 4,
 "nbformat_minor": 5
}
